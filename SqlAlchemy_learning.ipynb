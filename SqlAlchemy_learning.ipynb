{
 "cells": [
  {
   "cell_type": "code",
   "execution_count": 2,
   "metadata": {},
   "outputs": [
    {
     "name": "stdout",
     "output_type": "stream",
     "text": [
      "Govinde\n"
     ]
    }
   ],
   "source": [
    "#import engie - responsible for creating connections\n",
    "from sqlalchemy import create_engine\n",
    "# declarative base used to create models\n",
    "from sqlalchemy import declarative_base\n",
    "# common syntax for the connection url\n",
    "# \"<dialect>+<driver>://<usermname>:<password>@<host>:<port>/database\"\n",
    "# postfresql\n",
    "# \"postgresql+psycopg2://<username>:<password>@<hostname>:<port>/database\"\n",
    "# mysql\n",
    "# \"mysql://<username>:<password>@<hostname>:<port>/database\"\n",
    "#sqllite\n",
    "# /// - relative path & //// - absolute path\n",
    "db_url = \"sqlite:///task.db\"\n",
    "engine = create_engine(db_url)\n"
   ]
  }
 ],
 "metadata": {
  "kernelspec": {
   "display_name": "venv3_12",
   "language": "python",
   "name": "python3"
  },
  "language_info": {
   "codemirror_mode": {
    "name": "ipython",
    "version": 3
   },
   "file_extension": ".py",
   "mimetype": "text/x-python",
   "name": "python",
   "nbconvert_exporter": "python",
   "pygments_lexer": "ipython3",
   "version": "3.12.2"
  }
 },
 "nbformat": 4,
 "nbformat_minor": 2
}
