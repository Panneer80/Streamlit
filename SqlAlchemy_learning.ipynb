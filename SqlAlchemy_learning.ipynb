{
 "cells": [
  {
   "cell_type": "code",
   "execution_count": 1,
   "metadata": {},
   "outputs": [],
   "source": [
    "#import engie - responsible for creating connections\n",
    "from sqlalchemy import create_engine, Column, Integer, String, or_, func, ForeignKey, select\n",
    "# declarative base used to create models\n",
    "from sqlalchemy.orm import declarative_base, sessionmaker, relationship, mapped_column, Mapped, DeclarativeBase\n",
    "from typing import Optional\n",
    "# common syntax for the connection url\n",
    "# \"<dialect>+<driver>://<usermname>:<password>@<host>:<port>/database\"\n",
    "# postfresql\n",
    "# \"postgresql+psycopg2://<username>:<password>@<hostname>:<port>/database\"\n",
    "# mysql\n",
    "# \"mysql://<username>:<password>@<hostname>:<port>/database\"\n",
    "#sqllite\n",
    "# /// - relative path & //// - absolute path\n",
    "db_url = \"sqlite:///CivilPM.db\"\n",
    "engine = create_engine(db_url)\n",
    "# Session maker\n",
    "Session = sessionmaker(bind=engine)\n",
    "# initiate session to create actions\n",
    "session = Session()\n",
    "# Base = DeclarativeBase()"
   ]
  },
  {
   "cell_type": "code",
   "execution_count": 2,
   "metadata": {},
   "outputs": [],
   "source": [
    "class Base(DeclarativeBase):\n",
    "    pass\n",
    "\n",
    "class User(Base): \n",
    "    __tablename__ = \"users\"\n",
    "    id: Mapped[int] = mapped_column(primary_key=True)\n",
    "    name: Mapped[str]\n",
    "    email: Mapped[str]\n",
    "    password: Mapped[Optional[str]]\n",
    "    boq_list_id: Mapped[list[\"BOQ\"]] = relationship()    \n",
    "\n",
    "class BOQ(Base):\n",
    "    __tablename__ = \"boqs\"\n",
    "    id: Mapped[int] = mapped_column(primary_key=True)\n",
    "    client_id: Mapped[\"Client\"] = relationship()   \n",
    "    category: Mapped[\"Category\"]  = relationship()  \n",
    "    stages: Mapped[list[str]] = relationship()\n",
    "    resources: Mapped[list[str]] = relationship()\n",
    "    quantity: Mapped[Optional[str]]\n",
    "    unit: Mapped[Optional[str]]\n",
    "    rate: Mapped[Optional[float]]\n",
    "    amount: Mapped[Optional[float]]\n",
    "    user_id: Mapped[Optional[int]] = mapped_column(ForeignKey(\"users.id\"))\n",
    "\n",
    "class Client(Base):\n",
    "    __tablename__ = \"client_data\"\n",
    "    id: Mapped[int] = mapped_column(primary_key=True)\n",
    "    client_name: Mapped[Optional[str]]\n",
    "    total_sqft: Mapped[Optional[float]]\n",
    "    boq_id: Mapped[Optional[int]] = mapped_column(ForeignKey(\"boqs.id\"))\n",
    "\n",
    "class Category(Base):\n",
    "    __tablename__ = \"categories\"\n",
    "    id: Mapped[int] = mapped_column(primary_key=True)\n",
    "    name: Mapped[str]\n",
    "    description: Mapped[Optional[str]]\n",
    "    boq_id: Mapped[Optional[int]] = mapped_column(ForeignKey(\"boqs.id\"))\n",
    "  \n",
    "class Stage(Base):\n",
    "    __tablename__ = \"stages\"\n",
    "    id: Mapped[int] = mapped_column(primary_key=True)\n",
    "    name: Mapped[str]\n",
    "    description: Mapped[Optional[str]]\n",
    "    boq_id: Mapped[Optional[int]] = mapped_column(ForeignKey(\"boqs.id\"))\n",
    "\n",
    "class Resource(Base):\n",
    "    __tablename__ = \"resources\"\n",
    "    id: Mapped[int] = mapped_column(primary_key=True)\n",
    "    name: Mapped[str]\n",
    "    category: Mapped[str]\n",
    "    price: Mapped[float]\n",
    "    unit: Mapped[str]    \n",
    "    description: Mapped[Optional[str]]\n",
    "    boq_id: Mapped[Optional[int]] = mapped_column(ForeignKey(\"boqs.id\"))\n",
    "\n",
    "\n",
    "# this will create DB and tables\n",
    "Base.metadata.create_all(engine)\n"
   ]
  },
  {
   "cell_type": "code",
   "execution_count": 3,
   "metadata": {},
   "outputs": [
    {
     "name": "stdout",
     "output_type": "stream",
     "text": [
      "user.tasks =[<__main__.Task object at 0x00000196A3BF7EC0>]\n"
     ]
    }
   ],
   "source": [
    "# Create entries in table\n",
    "user = User(name=\"Paneer\", age=44)\n",
    "user_2 = User(name=\"Radha\",age=42)\n",
    "user_3 = User(name=\"Neha\", age=17)\n",
    "task_1 = Task(title=\"Test task1\", description=\"test description\")\n",
    "# add single object to session\n",
    "session.add(user)\n",
    "# add multiple objects to sesson\n",
    "session.add_all([user_2,user_3, task_1])\n",
    "user.tasks.extend([task_1])\n",
    "\n",
    "#commit changes\n",
    "session.commit()\n"
   ]
  },
  {
   "cell_type": "code",
   "execution_count": 7,
   "metadata": {},
   "outputs": [
    {
     "name": "stdout",
     "output_type": "stream",
     "text": [
      "Test task1\n"
     ]
    }
   ],
   "source": [
    "print(f\"{user.tasks[0].title}\")"
   ]
  },
  {
   "cell_type": "code",
   "execution_count": 39,
   "metadata": {},
   "outputs": [
    {
     "name": "stdout",
     "output_type": "stream",
     "text": [
      "6\n",
      "ID: 6 - Name: Radha - Age: 42\n"
     ]
    }
   ],
   "source": [
    "# Query table - ALL\n",
    "all_users = session.query(User).all()\n",
    "\n",
    "# filter results - return one or none\n",
    "# users = session.query(User).filter_by(id=3).one_or_none()\n",
    "# print(users.name)\n",
    "\n",
    "# filter results\n",
    "#users = session.query(User).filter_by(id=3).all() = no logical operators allowed\n",
    "# users = session.query(User).filter(User.id >= 3).all() # using logical operators\n",
    "# users = session.query(User).filter(User.id >= 3, User.name == 'Radha').all() # using multiple conditions\n",
    "\n",
    "#using where method - like SQL\n",
    "# users = session.query(User).where(or_(User.age >= 17, User.name == 'Radha')).all() # with or condition\n",
    "users = session.query(User).where(((User.age >= 17) | (User.name == 'Radha')) &  (User.id == 6)).all() # combination of and and or\n",
    "print(len(all_users)) # print lenth of all results\n",
    "\n",
    "for user in users:\n",
    "    print(f\"ID: {user.id} - Name: {user.name} - Age: {user.age}\")"
   ]
  },
  {
   "cell_type": "code",
   "execution_count": 19,
   "metadata": {},
   "outputs": [
    {
     "name": "stdout",
     "output_type": "stream",
     "text": [
      "Paneer\n"
     ]
    }
   ],
   "source": [
    "# update records\n",
    "user = session.query(User).filter_by(id=2).one_or_none()\n",
    "print(user.name)\n",
    "user.age=45\n",
    "session.commit()"
   ]
  },
  {
   "cell_type": "code",
   "execution_count": 21,
   "metadata": {},
   "outputs": [],
   "source": [
    "#delete record\n",
    "session.delete(user)\n",
    "session.commit()"
   ]
  },
  {
   "cell_type": "code",
   "execution_count": 25,
   "metadata": {},
   "outputs": [
    {
     "name": "stdout",
     "output_type": "stream",
     "text": [
      "ID: 1 - Name: Paneer - Age: 44\n",
      "ID: 3 - Name: Radha - Age: 42\n",
      "ID: 4 - Name: Neha - Age: 17\n"
     ]
    }
   ],
   "source": [
    "# ordering results\n",
    "\n",
    "# users = session.query(User).order_by(User.age).all() # assending\n",
    "users = session.query(User).order_by(User.age.desc(), User.name).all() # dessending\n",
    "for user in users:\n",
    "    print(f\"ID: {user.id} - Name: {user.name} - Age: {user.age}\")\n"
   ]
  },
  {
   "cell_type": "code",
   "execution_count": 55,
   "metadata": {},
   "outputs": [
    {
     "name": "stdout",
     "output_type": "stream",
     "text": [
      "[(17, 2), (42, 2), (44, 2)]\n",
      "3\n"
     ]
    }
   ],
   "source": [
    "# group by \n",
    "# users = session.query(User).all()\n",
    "users = session.query(User.age, func.count(User.id)).group_by(User.age).all()\n",
    "print(users)\n",
    "print(len(users))"
   ]
  },
  {
   "cell_type": "code",
   "execution_count": 59,
   "metadata": {},
   "outputs": [
    {
     "name": "stdout",
     "output_type": "stream",
     "text": [
      "[(44,), (42,), (44,), (42,)]\n",
      "Age: 42 - 2 users\n",
      "Age: 44 - 2 users\n"
     ]
    }
   ],
   "source": [
    "# chaining\n",
    "users = session.query(User.age).filter(User.age > 24).filter(User.age < 50).all()\n",
    "print(users)\n",
    "\n",
    "users_tuple = (\n",
    "    session.query(User.age, func.count(User.id))\n",
    "    .filter(User.age > 24)\n",
    "    .order_by(User.age)\n",
    "    .filter(User.age < 50)\n",
    "    .group_by(User.age)\n",
    "    .all()\n",
    ")\n",
    "\n",
    "for age, count in users_tuple:\n",
    "    print(f\"Age: {age} - {count} users\")"
   ]
  },
  {
   "cell_type": "code",
   "execution_count": null,
   "metadata": {},
   "outputs": [],
   "source": [
    "# one to many relationship\n",
    "\n",
    "# unmapped method\n",
    "\n",
    "class BaseModel(Base):\n",
    "    __abstract__ = True\n",
    "    __allow_unmapped__ = True\n",
    "\n",
    "    id = Column(Integer, primary_key=True)\n",
    "\n",
    "class Address(BaseModel):\n",
    "    __tablename__ = \"adressess\"\n",
    "    city = Column(String)\n",
    "    state = Column(String)\n",
    "    zip_code = Column(Integer)\n",
    "    user_id = Column(ForeignKey(\"nusers.id\"))\n",
    "\n",
    "    def __repr__(self):\n",
    "        return f\"<Address(id={self.id}, city='{self.city}')>\"\n",
    "\n",
    "class Nuser(BaseModel):\n",
    "    __tablename__ = \"nusers\"\n",
    "    name = Column(String)\n",
    "    age = Column(Integer)\n",
    "    adresses = relationship(Address)\n",
    "\n",
    "    def __repr__(self):\n",
    "        return f\"<Nuser(id={self.id}, username='{self.name}')>\"\n",
    "\n",
    "Base.metadata.create_all(engine)"
   ]
  },
  {
   "cell_type": "code",
   "execution_count": 1,
   "metadata": {},
   "outputs": [],
   "source": [
    "import pandas as pd\n"
   ]
  }
 ],
 "metadata": {
  "kernelspec": {
   "display_name": "venv3_12",
   "language": "python",
   "name": "python3"
  },
  "language_info": {
   "codemirror_mode": {
    "name": "ipython",
    "version": 3
   },
   "file_extension": ".py",
   "mimetype": "text/x-python",
   "name": "python",
   "nbconvert_exporter": "python",
   "pygments_lexer": "ipython3",
   "version": "3.12.2"
  }
 },
 "nbformat": 4,
 "nbformat_minor": 2
}
